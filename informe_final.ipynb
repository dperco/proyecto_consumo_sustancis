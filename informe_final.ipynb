{
 "cells": [
  {
   "cell_type": "code",
   "execution_count": null,
   "metadata": {},
   "outputs": [],
   "source": [
    "from reportlab.pdfgen import canvas\n",
    "from PyPDF2 import PdfFileWriter, PdfFileReader\n",
    "\n",
    "# Función para crear una página de comentarios\n",
    "def create_comment_page(output_pdf, title, comments, page_number):\n",
    "    # Crea una página temporal con los comentarios\n",
    "    c = canvas.Canvas(\"temp.pdf\")\n",
    "    c.drawString(100, 750, title)\n",
    "    current_height = 730\n",
    "    for comment in comments:\n",
    "        c.drawString(100, current_height, comment)\n",
    "        current_height -= 20  # Ajusta la altura para el siguiente comentario\n",
    "    c.save()\n",
    "\n",
    "    # Lee la página de comentarios recién creada\n",
    "    new_pdf = PdfFileReader(\"temp.pdf\")\n",
    "    comment_page = new_pdf.getPage(0)\n",
    "\n",
    "    # Obtiene la página del PDF existente\n",
    "    existing_page = existing_pdf.getPage(page_number)\n",
    "    \n",
    "    # Fusiona la página de comentarios con la página existente\n",
    "    existing_page.mergePage(comment_page)\n",
    "    output_pdf.addPage(existing_page)\n",
    "\n",
    "# Abre el PDF existente\n",
    "existing_pdf = PdfFileReader('ruta/a/tu/archivo.pdf')\n",
    "\n",
    "# Crea un objeto PdfFileWriter para el PDF de salida\n",
    "output_pdf = PdfFileWriter()\n",
    "\n",
    "# Lista de títulos y comentarios para cada página\n",
    "titles_and_comments = [\n",
    "    (\"Título de la página 1\", [\"Comentario 1\", \"Comentario 2\"]),\n",
    "    (\"Título de la página 2\", [\"Comentario 3\", \"Comentario 4\"]),\n",
    "    # Añade más títulos y comentarios según sea necesario\n",
    "]\n",
    "\n",
    "# Itera sobre cada conjunto de títulos y comentarios\n",
    "for page_number, (title, comments) in enumerate(titles_and_comments):\n",
    "    create_comment_page(output_pdf, title, comments, page_number)\n",
    "\n",
    "# Guarda el PDF fusionado\n",
    "with open('ruta/a/tu/nuevo_archivo.pdf', 'wb') as f:\n",
    "    output_pdf.write(f)"
   ]
  }
 ],
 "metadata": {
  "kernelspec": {
   "display_name": "Python 3",
   "language": "python",
   "name": "python3"
  },
  "language_info": {
   "name": "python",
   "version": "3.10.11"
  }
 },
 "nbformat": 4,
 "nbformat_minor": 2
}
