{
 "cells": [
  {
   "cell_type": "code",
   "execution_count": 2,
   "metadata": {},
   "outputs": [
    {
     "name": "stdout",
     "output_type": "stream",
     "text": [
      "Requirement already satisfied: PyPDF2 in c:\\users\\danie\\appdata\\local\\packages\\pythonsoftwarefoundation.python.3.10_qbz5n2kfra8p0\\localcache\\local-packages\\python310\\site-packages (3.0.1)\n",
      "Note: you may need to restart the kernel to use updated packages.\n"
     ]
    }
   ],
   "source": [
    "%pip install PyPDF2"
   ]
  },
  {
   "cell_type": "code",
   "execution_count": 8,
   "metadata": {},
   "outputs": [],
   "source": [
    "from PyPDF2 import PdfReader, PdfWriter"
   ]
  },
  {
   "cell_type": "code",
   "execution_count": 9,
   "metadata": {},
   "outputs": [],
   "source": [
    "reader = PdfReader('E:\\CURSOS_PROFE_DIGITAL\\Data_Sience\\Data_Science\\pruebas\\PF_Consumo_Sustancias_2022_Daniel_Perco_Version_2.pdf')"
   ]
  },
  {
   "cell_type": "code",
   "execution_count": 11,
   "metadata": {},
   "outputs": [],
   "source": [
    "\n",
    "# Crea un objeto PdfWriter\n",
    "writer = PdfWriter()\n",
    "\n",
    "# Añade las páginas seleccionadas al objeto PdfWriter\n",
    "# En este ejemplo, añadimos las páginas 1 y 3 (la numeración de las páginas comienza desde 0)\n",
    "writer.add_page(reader.pages[0])\n",
    "writer.add_page(reader.pages[1])\n",
    "writer.add_page(reader.pages[2])\n",
    "writer.add_page(reader.pages[3])\n",
    "writer.add_page(reader.pages[4])\n",
    "writer.add_page(reader.pages[5])\n",
    "writer.add_page(reader.pages[6])\n",
    "writer.add_page(reader.pages[7])\n",
    "writer.add_page(reader.pages[10])\n",
    "\n",
    "# Escribe las páginas seleccionadas en un nuevo archivo PDF\n",
    "with open('E:\\CURSOS_PROFE_DIGITAL\\Data_Sience\\Data_Science\\pruebas\\PF_Consumo_Sustancias_2022_Daniel_Perco_Version_2.pdf', 'wb') as output_pdf:\n",
    "    writer.write(output_pdf)\n"
   ]
  }
 ],
 "metadata": {
  "kernelspec": {
   "display_name": "Python 3",
   "language": "python",
   "name": "python3"
  },
  "language_info": {
   "codemirror_mode": {
    "name": "ipython",
    "version": 3
   },
   "file_extension": ".py",
   "mimetype": "text/x-python",
   "name": "python",
   "nbconvert_exporter": "python",
   "pygments_lexer": "ipython3",
   "version": "3.10.11"
  }
 },
 "nbformat": 4,
 "nbformat_minor": 2
}
